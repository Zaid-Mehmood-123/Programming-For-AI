{
 "cells": [
  {
   "cell_type": "code",
   "execution_count": 21,
   "id": "254a171c",
   "metadata": {},
   "outputs": [
    {
     "name": "stdout",
     "output_type": "stream",
     "text": [
      "Enter the capacity of the first jug (X): 4\n",
      "Enter the capacity of the second jug (Y): 5\n",
      "Enter the amount of water you want to measure: 3\n",
      "Jug X Capacity: 4L, Jug Y Capacity: 5L\n",
      "Goal: Measure exactly 3L of water.\n",
      "\n",
      "Current State → Jug X: 0L, Jug Y: 0L\n",
      "Current State → Jug X: 0L, Jug Y: 5L\n",
      "Current State → Jug X: 4L, Jug Y: 1L\n",
      "Current State → Jug X: 4L, Jug Y: 0L\n",
      "Current State → Jug X: 0L, Jug Y: 4L\n",
      "Current State → Jug X: 4L, Jug Y: 4L\n",
      "Current State → Jug X: 3L, Jug Y: 5L\n",
      "Solution Found! Steps taken:\n",
      "Jug X: 0L, Jug Y: 0L\n",
      "Jug X: 0L, Jug Y: 5L\n",
      "Jug X: 4L, Jug Y: 1L\n",
      "Jug X: 4L, Jug Y: 0L\n",
      "Jug X: 0L, Jug Y: 4L\n",
      "Jug X: 4L, Jug Y: 4L\n",
      "Jug X: 3L, Jug Y: 5L\n"
     ]
    },
    {
     "data": {
      "text/plain": [
       "True"
      ]
     },
     "execution_count": 21,
     "metadata": {},
     "output_type": "execute_result"
    }
   ],
   "source": [
    "def dfs(jug_x_capacity, jug_y_capacity, target):\n",
    "    stack = [(0, 0)]  \n",
    "    visited = set()\n",
    "    actions = []\n",
    "    \n",
    "    print(f\"Jug X Capacity: {jug_x_capacity}L, Jug Y Capacity: {jug_y_capacity}L\")\n",
    "    print(f\"Goal: Measure exactly {target}L of water.\\n\")\n",
    "    \n",
    "    while stack:\n",
    "        jug_x, jug_y = stack.pop()\n",
    "        actions.append((jug_x, jug_y))\n",
    "        \n",
    "        if (jug_x, jug_y) in visited:\n",
    "            continue\n",
    "        \n",
    "        visited.add((jug_x, jug_y))\n",
    "        \n",
    "        print(f\"Current State → Jug X: {jug_x}L, Jug Y: {jug_y}L\")\n",
    "        \n",
    "        if jug_x == target or jug_y == target:\n",
    "            print(\"Solution Found! Steps taken:\")\n",
    "            for action in actions:\n",
    "                print(f\"Jug X: {action[0]}L, Jug Y: {action[1]}L\")\n",
    "            return True\n",
    "        \n",
    "        possible_moves = [\n",
    "            (jug_x_capacity, jug_y),  \n",
    "            (jug_x, jug_y_capacity),  \n",
    "            (0, jug_y),\n",
    "            (jug_x, 0),\n",
    "            (jug_x - min(jug_x, jug_y_capacity - jug_y), jug_y + min(jug_x, jug_y_capacity - jug_y)),  \n",
    "            (jug_x + min(jug_y, jug_x_capacity - jug_x), jug_y - min(jug_y, jug_x_capacity - jug_x)) \n",
    "        ]\n",
    "        \n",
    "        for move in possible_moves:\n",
    "            if move not in visited:\n",
    "                stack.append(move)\n",
    "    \n",
    "    print(\" No Solution\")\n",
    "    return False\n",
    "\n",
    "jug_x_capacity = int(input(\"Enter the capacity of the first jug (X): \"))\n",
    "jug_y_capacity = int(input(\"Enter the capacity of the second jug (Y): \"))\n",
    "target = int(input(\"Enter the amount of water you want to measure: \"))\n",
    "\n",
    "dfs(jug_x_capacity, jug_y_capacity, target)\n"
   ]
  },
  {
   "cell_type": "code",
   "execution_count": null,
   "id": "25c2953a",
   "metadata": {},
   "outputs": [],
   "source": []
  },
  {
   "cell_type": "code",
   "execution_count": null,
   "id": "e38f43bd",
   "metadata": {},
   "outputs": [],
   "source": []
  }
 ],
 "metadata": {
  "kernelspec": {
   "display_name": "Python 3 (ipykernel)",
   "language": "python",
   "name": "python3"
  },
  "language_info": {
   "codemirror_mode": {
    "name": "ipython",
    "version": 3
   },
   "file_extension": ".py",
   "mimetype": "text/x-python",
   "name": "python",
   "nbconvert_exporter": "python",
   "pygments_lexer": "ipython3",
   "version": "3.11.5"
  }
 },
 "nbformat": 4,
 "nbformat_minor": 5
}
